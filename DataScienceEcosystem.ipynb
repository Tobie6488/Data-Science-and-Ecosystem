{
 "cells": [
  {
   "cell_type": "markdown",
   "id": "4d3d933d",
   "metadata": {},
   "source": [
    "# Data science tools and Ecosystem"
   ]
  },
  {
   "cell_type": "code",
   "execution_count": null,
   "id": "98f51f5a",
   "metadata": {},
   "outputs": [],
   "source": [
    "In this Notebook, Data Science tools and Ecosystem are summarized."
   ]
  },
  {
   "cell_type": "code",
   "execution_count": null,
   "id": "3e7f9b08",
   "metadata": {},
   "outputs": [],
   "source": [
    "Some of the popular languages that Data Scientists use are:\n",
    "- Python\n",
    "- R\n",
    "- Java"
   ]
  },
  {
   "cell_type": "code",
   "execution_count": null,
   "id": "f9745157",
   "metadata": {},
   "outputs": [],
   "source": [
    "Some of the commonly used Libraries by Data scientists include:\n",
    "- Pandas\n",
    "- Numpy\n",
    "- Tensor flow\n",
    "- ggplot2"
   ]
  },
  {
   "cell_type": "code",
   "execution_count": null,
   "id": "55a65397",
   "metadata": {},
   "outputs": [],
   "source": [
    "| Data science tools |\n",
    "| ------------------ |\n",
    "| R Studio |\n",
    "| Spyder |\n",
    "| Jupyter Notebooks |"
   ]
  },
  {
   "cell_type": "code",
   "execution_count": null,
   "id": "3dc9bc91",
   "metadata": {},
   "outputs": [],
   "source": [
    "### Below are a few examples of evaluating arithmetic expressions in Python"
   ]
  },
  {
   "cell_type": "code",
   "execution_count": 2,
   "id": "7bbc8e64",
   "metadata": {},
   "outputs": [
    {
     "data": {
      "text/plain": [
       "17"
      ]
     },
     "execution_count": 2,
     "metadata": {},
     "output_type": "execute_result"
    }
   ],
   "source": [
    "# This is a simple arithmetic expression to multiply then add integers\n",
    "(3*4)+5"
   ]
  },
  {
   "cell_type": "code",
   "execution_count": null,
   "id": "b9bc3952",
   "metadata": {},
   "outputs": [],
   "source": [
    "#This will convert 200 minutes to hours by divding by 60.\n",
    "total_minutes = 200\n",
    "hours = total_minutes // 60\n",
    "minutes = total_minutes % 60\n",
    "time = \"{} : {}\".format(hours, minutes)\n",
    "print(time)"
   ]
  },
  {
   "cell_type": "code",
   "execution_count": null,
   "id": "05e3312e",
   "metadata": {},
   "outputs": [],
   "source": [
    "#This will convert 200 minutes to hours by dividing by 60\n",
    "total_minutes = 200\n",
    "hours = total_minutes //60\n",
    "minutes = total_minutes % 60\n",
    "time = \"{} : {}\".format(hours,minutes)\n",
    "print(time)"
   ]
  },
  {
   "cell_type": "code",
   "execution_count": null,
   "id": "cab63305",
   "metadata": {},
   "outputs": [],
   "source": [
    "5*6"
   ]
  },
  {
   "cell_type": "code",
   "execution_count": null,
   "id": "95287969",
   "metadata": {},
   "outputs": [],
   "source": []
  }
 ],
 "metadata": {
  "kernelspec": {
   "display_name": "Python 3 (ipykernel)",
   "language": "python",
   "name": "python3"
  },
  "language_info": {
   "codemirror_mode": {
    "name": "ipython",
    "version": 3
   },
   "file_extension": ".py",
   "mimetype": "text/x-python",
   "name": "python",
   "nbconvert_exporter": "python",
   "pygments_lexer": "ipython3",
   "version": "3.11.5"
  }
 },
 "nbformat": 4,
 "nbformat_minor": 5
}
