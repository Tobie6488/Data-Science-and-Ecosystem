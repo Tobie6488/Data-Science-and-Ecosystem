{
 "cells": [
  {
   "cell_type": "code",
   "execution_count": 1,
   "id": "f71de20e",
   "metadata": {},
   "outputs": [
    {
     "name": "stdout",
     "output_type": "stream",
     "text": [
      "3 : 20\n"
     ]
    }
   ],
   "source": [
    "#This will convert 200 minutes to hours by dividing by 60\n",
    "total_minutes = 200\n",
    "hours = total_minutes //60\n",
    "minutes = total_minutes % 60\n",
    "time = \"{} : {}\".format(hours,minutes)\n",
    "print(time)"
   ]
  },
  {
   "cell_type": "markdown",
   "id": "13a8254e",
   "metadata": {},
   "source": [
    "**objectives**\n",
    "- python, R, SQL, Spyder\n",
    "- how to execute a code cell\n",
    "- how to create a markdown cell\n",
    "- how to insert and delete a code cell"
   ]
  },
  {
   "cell_type": "markdown",
   "id": "6ce5e2a5",
   "metadata": {},
   "source": [
    "## Author\n",
    "Oluwatobi Ogunsakin"
   ]
  },
  {
   "cell_type": "code",
   "execution_count": null,
   "id": "0ece8303",
   "metadata": {},
   "outputs": [],
   "source": []
  }
 ],
 "metadata": {
  "kernelspec": {
   "display_name": "Python 3 (ipykernel)",
   "language": "python",
   "name": "python3"
  },
  "language_info": {
   "codemirror_mode": {
    "name": "ipython",
    "version": 3
   },
   "file_extension": ".py",
   "mimetype": "text/x-python",
   "name": "python",
   "nbconvert_exporter": "python",
   "pygments_lexer": "ipython3",
   "version": "3.11.5"
  }
 },
 "nbformat": 4,
 "nbformat_minor": 5
}
